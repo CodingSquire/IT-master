{
 "cells": [
  {
   "cell_type": "code",
   "execution_count": 63,
   "metadata": {},
   "outputs": [],
   "source": [
    "def unpickle(file):\n",
    "    import _pickle as cPickle\n",
    "    dt = cPickle.load(file, encoding='latin1')\n",
    "    return dt"
   ]
  },
  {
   "cell_type": "code",
   "execution_count": 64,
   "metadata": {},
   "outputs": [],
   "source": [
    "import os"
   ]
  },
  {
   "cell_type": "code",
   "execution_count": 65,
   "metadata": {},
   "outputs": [],
   "source": [
    "file = open(str(os.sys.path[0]) + '\\\\..\\\\Datasets\\\\cifar-10-python\\\\cifar-10-batches-py\\\\data_batch_1', 'rb')"
   ]
  },
  {
   "cell_type": "code",
   "execution_count": 66,
   "metadata": {},
   "outputs": [],
   "source": [
    "data = unpickle(file)['data']"
   ]
  },
  {
   "cell_type": "code",
   "execution_count": 67,
   "metadata": {},
   "outputs": [],
   "source": [
    "from PIL import Image"
   ]
  },
  {
   "cell_type": "code",
   "execution_count": 68,
   "metadata": {},
   "outputs": [],
   "source": [
    "import matplotlib.pyplot as plt\n",
    "import matplotlib.image as mpimg\n",
    "from matplotlib.image import imread\n",
    "import numpy as np"
   ]
  },
  {
   "cell_type": "code",
   "execution_count": 69,
   "metadata": {},
   "outputs": [
    {
     "data": {
      "image/png": "[encoded data removed]",
      "text/plain": [
       "<Figure size 432x288 with 1 Axes>"
      ]
     },
     "metadata": {
      "needs_background": "light"
     },
     "output_type": "display_data"
    }
   ],
   "source": [
    "img = imread(\"./android.png\")\n",
    "imgplot = plt.imshow(img)\n",
    "plt.show()"
   ]
  },
  {
   "cell_type": "code",
   "execution_count": 70,
   "metadata": {},
   "outputs": [
    {
     "data": {
      "text/plain": [
       "(256, 256, 4)"
      ]
     },
     "execution_count": 70,
     "metadata": {},
     "output_type": "execute_result"
    }
   ],
   "source": [
    "img.shape"
   ]
  },
  {
   "cell_type": "code",
   "execution_count": 71,
   "metadata": {},
   "outputs": [
    {
     "data": {
      "text/plain": [
       "array([[[0.69411767, 0.7921569 , 0.34509805, 0.85490197],\n",
       "        [0.69803923, 0.80784315, 0.28627452, 1.        ],\n",
       "        [0.69803923, 0.80784315, 0.28627452, 1.        ],\n",
       "        ...,\n",
       "        [0.69803923, 0.80784315, 0.28627452, 1.        ],\n",
       "        [0.69803923, 0.80784315, 0.28627452, 1.        ],\n",
       "        [0.69803923, 0.8       , 0.30980393, 0.9764706 ]],\n",
       "\n",
       "       [[0.69803923, 0.80784315, 0.28627452, 1.        ],\n",
       "        [0.69803923, 0.80784315, 0.28627452, 1.        ],\n",
       "        [0.69803923, 0.80784315, 0.28627452, 1.        ],\n",
       "        ...,\n",
       "        [0.69803923, 0.80784315, 0.28627452, 1.        ],\n",
       "        [0.69803923, 0.80784315, 0.28627452, 1.        ],\n",
       "        [0.69803923, 0.80784315, 0.28627452, 1.        ]],\n",
       "\n",
       "       [[0.69803923, 0.80784315, 0.28627452, 1.        ],\n",
       "        [0.69803923, 0.80784315, 0.28627452, 1.        ],\n",
       "        [0.69803923, 0.80784315, 0.28627452, 1.        ],\n",
       "        ...,\n",
       "        [0.69803923, 0.80784315, 0.28627452, 1.        ],\n",
       "        [0.69803923, 0.80784315, 0.28627452, 1.        ],\n",
       "        [0.69803923, 0.80784315, 0.28627452, 1.        ]],\n",
       "\n",
       "       ...,\n",
       "\n",
       "       [[0.69803923, 0.80784315, 0.28627452, 1.        ],\n",
       "        [0.69803923, 0.80784315, 0.28627452, 1.        ],\n",
       "        [0.69803923, 0.80784315, 0.28627452, 1.        ],\n",
       "        ...,\n",
       "        [0.69803923, 0.80784315, 0.28627452, 1.        ],\n",
       "        [0.69803923, 0.80784315, 0.28627452, 1.        ],\n",
       "        [0.69803923, 0.80784315, 0.28627452, 1.        ]],\n",
       "\n",
       "       [[0.69803923, 0.80784315, 0.28627452, 1.        ],\n",
       "        [0.69803923, 0.80784315, 0.28627452, 1.        ],\n",
       "        [0.69803923, 0.80784315, 0.28627452, 1.        ],\n",
       "        ...,\n",
       "        [0.69803923, 0.80784315, 0.28627452, 1.        ],\n",
       "        [0.69803923, 0.80784315, 0.28627452, 1.        ],\n",
       "        [0.69803923, 0.80784315, 0.28627452, 1.        ]],\n",
       "\n",
       "       [[0.69803923, 0.8       , 0.30980393, 0.9764706 ],\n",
       "        [0.69803923, 0.80784315, 0.28627452, 1.        ],\n",
       "        [0.69803923, 0.80784315, 0.28627452, 1.        ],\n",
       "        ...,\n",
       "        [0.69803923, 0.80784315, 0.28627452, 1.        ],\n",
       "        [0.69803923, 0.80784315, 0.28627452, 1.        ],\n",
       "        [0.69803923, 0.80784315, 0.28627452, 1.        ]]], dtype=float32)"
      ]
     },
     "execution_count": 71,
     "metadata": {},
     "output_type": "execute_result"
    }
   ],
   "source": [
    "img"
   ]
  },
  {
   "cell_type": "code",
   "execution_count": 51,
   "metadata": {},
   "outputs": [
    {
     "ename": "SyntaxError",
     "evalue": "invalid syntax (<ipython-input-51-b03446aca4df>, line 7)",
     "output_type": "error",
     "traceback": [
      "\u001b[1;36m  File \u001b[1;32m\"<ipython-input-51-b03446aca4df>\"\u001b[1;36m, line \u001b[1;32m7\u001b[0m\n\u001b[1;33m    int_img[i,j] = img[i,j] + img[i - 1,j] +\u001b[0m\n\u001b[1;37m                                             ^\u001b[0m\n\u001b[1;31mSyntaxError\u001b[0m\u001b[1;31m:\u001b[0m invalid syntax\n"
     ]
    }
   ],
   "source": [
    "int_img = np.zeros(img.shape)\n",
    "\n",
    "for i, row in enumerate(img):\n",
    "    for j, column in enumerate(img):\n",
    "       \n",
    "        if i is not 0 and j is not 0:\n",
    "            int_img[i,j] = img[i,j] + img[i - 1,j] + \n",
    "        elif i is not 0 and j is 0:\n",
    "            int_img[i,j] = img[i,j] + img[i - 1,j]\n",
    "        elif j is not 0 and i is 0:\n",
    "            int_img[i,j] = img[i,j] + img[i,j - 1]"
   ]
  },
  {
   "cell_type": "code",
   "execution_count": 72,
   "metadata": {},
   "outputs": [
    {
     "name": "stderr",
     "output_type": "stream",
     "text": [
      "Clipping input data to the valid range for imshow with RGB data ([0..1] for floats or [0..255] for integers).\n"
     ]
    },
    {
     "data": {
      "image/png": "[encoded data removed]",
      "text/plain": [
       "<Figure size 432x288 with 1 Axes>"
      ]
     },
     "metadata": {
      "needs_background": "light"
     },
     "output_type": "display_data"
    },
    {
     "data": {
      "image/png": "[encoded data removed]",
      "text/plain": [
       "<Figure size 432x288 with 1 Axes>"
      ]
     },
     "metadata": {
      "needs_background": "light"
     },
     "output_type": "display_data"
    }
   ],
   "source": [
    "imgplot = plt.imshow(int_img)\n",
    "plt.show()\n",
    "imgplot = plt.imshow(img)\n",
    "plt.show()"
   ]
  },
  {
   "cell_type": "code",
   "execution_count": 73,
   "metadata": {},
   "outputs": [
    {
     "name": "stdout",
     "output_type": "stream",
     "text": [
      "Requirement already satisfied: opencv-python in c:\\users\\mdere\\anaconda3\\lib\\site-packages (4.1.1.26)\n",
      "Requirement already satisfied: numpy>=1.14.5 in c:\\users\\mdere\\anaconda3\\lib\\site-packages (from opencv-python) (1.16.4)\n"
     ]
    }
   ],
   "source": [
    "import cv2"
   ]
  },
  {
   "cell_type": "code",
   "execution_count": 75,
   "metadata": {},
   "outputs": [
    {
     "data": {
      "image/png": "[encoded data removed]",
      "text/plain": [
       "<Figure size 432x288 with 1 Axes>"
      ]
     },
     "metadata": {
      "needs_background": "light"
     },
     "output_type": "display_data"
    },
    {
     "name": "stderr",
     "output_type": "stream",
     "text": [
      "Clipping input data to the valid range for imshow with RGB data ([0..1] for floats or [0..255] for integers).\n"
     ]
    },
    {
     "data": {
      "image/png": "[encoded data removed]",
      "text/plain": [
       "<Figure size 432x288 with 1 Axes>"
      ]
     },
     "metadata": {
      "needs_background": "light"
     },
     "output_type": "display_data"
    }
   ],
   "source": [
    "snap = cv2.imread(\"./android.png\")\n",
    "intergral_image = cv2.integral(snap)\n",
    "\n",
    "imgplot = plt.imshow(snap)\n",
    "plt.show()\n",
    "imgplot = plt.imshow(intergral_image)\n",
    "plt.show()"
   ]
  },
  {
   "cell_type": "code",
   "execution_count": null,
   "metadata": {},
   "outputs": [],
   "source": []
  }
 ],
 "metadata": {
  "kernelspec": {
   "display_name": "Python 3",
   "language": "python",
   "name": "python3"
  },
  "language_info": {
   "codemirror_mode": {
    "name": "ipython",
    "version": 3
   },
   "file_extension": ".py",
   "mimetype": "text/x-python",
   "name": "python",
   "nbconvert_exporter": "python",
   "pygments_lexer": "ipython3",
   "version": "3.7.3"
  }
 },
 "nbformat": 4,
 "nbformat_minor": 2
}
