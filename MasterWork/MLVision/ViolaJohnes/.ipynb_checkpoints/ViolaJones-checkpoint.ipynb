{
 "cells": [
  {
   "cell_type": "code",
   "execution_count": 36,
   "metadata": {},
   "outputs": [],
   "source": [
    "def unpickle(file):\n",
    "    import _pickle as cPickle\n",
    "    dt = cPickle.load(file, encoding='latin1')\n",
    "    return dt"
   ]
  },
  {
   "cell_type": "code",
   "execution_count": 37,
   "metadata": {},
   "outputs": [],
   "source": [
    "import os"
   ]
  },
  {
   "cell_type": "code",
   "execution_count": 38,
   "metadata": {},
   "outputs": [],
   "source": [
    "file = open(str(os.sys.path[0]) + '\\\\..\\\\Datasets\\\\cifar-10-python\\\\cifar-10-batches-py\\\\data_batch_1', 'rb')"
   ]
  },
  {
   "cell_type": "code",
   "execution_count": 39,
   "metadata": {},
   "outputs": [],
   "source": [
    "data = unpickle(file)['data']"
   ]
  },
  {
   "cell_type": "code",
   "execution_count": 40,
   "metadata": {},
   "outputs": [],
   "source": [
    "from PIL import Image"
   ]
  },
  {
   "cell_type": "code",
   "execution_count": 41,
   "metadata": {},
   "outputs": [],
   "source": [
    "import matplotlib.pyplot as plt\n",
    "import matplotlib.image as mpimg\n",
    "from matplotlib.image import imread\n",
    "import numpy as np"
   ]
  },
  {
   "cell_type": "code",
   "execution_count": 42,
   "metadata": {},
   "outputs": [
    {
     "data": {
      "image/png": "[encoded data removed]",
      "text/plain": [
       "<Figure size 432x288 with 1 Axes>"
      ]
     },
     "metadata": {
      "needs_background": "light"
     },
     "output_type": "display_data"
    }
   ],
   "source": [
    "img = imread(\"./android.png\")\n",
    "imgplot = plt.imshow(img)\n",
    "plt.show()"
   ]
  },
  {
   "cell_type": "code",
   "execution_count": 43,
   "metadata": {},
   "outputs": [
    {
     "data": {
      "text/plain": [
       "(256, 256, 4)"
      ]
     },
     "execution_count": 43,
     "metadata": {},
     "output_type": "execute_result"
    }
   ],
   "source": [
    "img.shape"
   ]
  },
  {
   "cell_type": "code",
   "execution_count": 44,
   "metadata": {},
   "outputs": [
    {
     "data": {
      "text/plain": [
       "array([[[0.69411767, 0.7921569 , 0.34509805, 0.85490197],\n",
       "        [0.69803923, 0.80784315, 0.28627452, 1.        ],\n",
       "        [0.69803923, 0.80784315, 0.28627452, 1.        ],\n",
       "        ...,\n",
       "        [0.69803923, 0.80784315, 0.28627452, 1.        ],\n",
       "        [0.69803923, 0.80784315, 0.28627452, 1.        ],\n",
       "        [0.69803923, 0.8       , 0.30980393, 0.9764706 ]],\n",
       "\n",
       "       [[0.69803923, 0.80784315, 0.28627452, 1.        ],\n",
       "        [0.69803923, 0.80784315, 0.28627452, 1.        ],\n",
       "        [0.69803923, 0.80784315, 0.28627452, 1.        ],\n",
       "        ...,\n",
       "        [0.69803923, 0.80784315, 0.28627452, 1.        ],\n",
       "        [0.69803923, 0.80784315, 0.28627452, 1.        ],\n",
       "        [0.69803923, 0.80784315, 0.28627452, 1.        ]],\n",
       "\n",
       "       [[0.69803923, 0.80784315, 0.28627452, 1.        ],\n",
       "        [0.69803923, 0.80784315, 0.28627452, 1.        ],\n",
       "        [0.69803923, 0.80784315, 0.28627452, 1.        ],\n",
       "        ...,\n",
       "        [0.69803923, 0.80784315, 0.28627452, 1.        ],\n",
       "        [0.69803923, 0.80784315, 0.28627452, 1.        ],\n",
       "        [0.69803923, 0.80784315, 0.28627452, 1.        ]],\n",
       "\n",
       "       ...,\n",
       "\n",
       "       [[0.69803923, 0.80784315, 0.28627452, 1.        ],\n",
       "        [0.69803923, 0.80784315, 0.28627452, 1.        ],\n",
       "        [0.69803923, 0.80784315, 0.28627452, 1.        ],\n",
       "        ...,\n",
       "        [0.69803923, 0.80784315, 0.28627452, 1.        ],\n",
       "        [0.69803923, 0.80784315, 0.28627452, 1.        ],\n",
       "        [0.69803923, 0.80784315, 0.28627452, 1.        ]],\n",
       "\n",
       "       [[0.69803923, 0.80784315, 0.28627452, 1.        ],\n",
       "        [0.69803923, 0.80784315, 0.28627452, 1.        ],\n",
       "        [0.69803923, 0.80784315, 0.28627452, 1.        ],\n",
       "        ...,\n",
       "        [0.69803923, 0.80784315, 0.28627452, 1.        ],\n",
       "        [0.69803923, 0.80784315, 0.28627452, 1.        ],\n",
       "        [0.69803923, 0.80784315, 0.28627452, 1.        ]],\n",
       "\n",
       "       [[0.69803923, 0.8       , 0.30980393, 0.9764706 ],\n",
       "        [0.69803923, 0.80784315, 0.28627452, 1.        ],\n",
       "        [0.69803923, 0.80784315, 0.28627452, 1.        ],\n",
       "        ...,\n",
       "        [0.69803923, 0.80784315, 0.28627452, 1.        ],\n",
       "        [0.69803923, 0.80784315, 0.28627452, 1.        ],\n",
       "        [0.69803923, 0.80784315, 0.28627452, 1.        ]]], dtype=float32)"
      ]
     },
     "execution_count": 44,
     "metadata": {},
     "output_type": "execute_result"
    }
   ],
   "source": [
    "img"
   ]
  },
  {
   "cell_type": "code",
   "execution_count": 45,
   "metadata": {},
   "outputs": [],
   "source": [
    "int_img = np.zeros(img.shape)\n",
    "\n",
    "for i, row in enumerate(img):\n",
    "    for j, column in enumerate(img):\n",
    "        if i is not 0 and j is not 0:\n",
    "            a = img[i - 1,j]\n",
    "            b = img[i,j - 1]\n",
    "            int_img[i,j] = img[i,j] + a + b"
   ]
  },
  {
   "cell_type": "code",
   "execution_count": 50,
   "metadata": {},
   "outputs": [
    {
     "name": "stderr",
     "output_type": "stream",
     "text": [
      "Clipping input data to the valid range for imshow with RGB data ([0..1] for floats or [0..255] for integers).\n"
     ]
    },
    {
     "data": {
      "image/png": "[encoded data removed]",
      "text/plain": [
       "<Figure size 432x288 with 1 Axes>"
      ]
     },
     "metadata": {
      "needs_background": "light"
     },
     "output_type": "display_data"
    },
    {
     "data": {
      "image/png": "[encoded data removed]",
      "text/plain": [
       "<Figure size 432x288 with 1 Axes>"
      ]
     },
     "metadata": {
      "needs_background": "light"
     },
     "output_type": "display_data"
    }
   ],
   "source": [
    "imgplot = plt.imshow(int_img)\n",
    "plt.show()\n",
    "plt.imshow(img)\n",
    "plt.show()"
   ]
  },
  {
   "cell_type": "code",
   "execution_count": null,
   "metadata": {},
   "outputs": [],
   "source": []
  }
 ],
 "metadata": {
  "kernelspec": {
   "display_name": "Python 3",
   "language": "python",
   "name": "python3"
  },
  "language_info": {
   "codemirror_mode": {
    "name": "ipython",
    "version": 3
   },
   "file_extension": ".py",
   "mimetype": "text/x-python",
   "name": "python",
   "nbconvert_exporter": "python",
   "pygments_lexer": "ipython3",
   "version": "3.7.3"
  }
 },
 "nbformat": 4,
 "nbformat_minor": 2
}
