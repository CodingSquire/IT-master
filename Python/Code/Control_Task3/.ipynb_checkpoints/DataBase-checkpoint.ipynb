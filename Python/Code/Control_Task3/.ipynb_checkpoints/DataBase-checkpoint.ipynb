{
 "cells": [
  {
   "cell_type": "code",
   "execution_count": 1,
   "metadata": {},
   "outputs": [],
   "source": [
    "db = {\n",
    "    \"person\":{\n",
    "        \"name\": [\"Vladimir\",\"Mariya\"],\n",
    "        \"lname\": [\"Ivanov\",\"Sidorova\"],\n",
    "        \"inn\": [\"123\",\"332\"]\n",
    "    },\n",
    "    \"employment\":{\n",
    "        \"firm\":[\"Firm 1\",\"Firm 2\",\"Firm 2\",\"Firm 3\"],\n",
    "        \"person_inn\":[\"123\",\"123\",\"332\",\"332\"]\n",
    "    }\n",
    "}\n",
    "\n",
    "\n",
    "qwery=\"person.inn=employment.person_inn\""
   ]
  },
  {
   "cell_type": "code",
   "execution_count": 2,
   "metadata": {},
   "outputs": [],
   "source": [
    "res =\"\"\"\n",
    "Vladimir; Ivanov; 123; Firm 1; 123\n",
    "Vladimir; Ivanov; 123; Firm 2; 123\n",
    "Mariya; Sidorova; 332; Firm 2; 332\n",
    "Mariya; Sidorova; 332; Firm 3; 332\n",
    "\"\"\""
   ]
  },
  {
   "cell_type": "code",
   "execution_count": 3,
   "metadata": {},
   "outputs": [
    {
     "data": {
      "text/plain": [
       "{'person': {'name': ['Vladimir', 'Mariya'],\n",
       "  'lname': ['Ivanov', 'Sidorova'],\n",
       "  'inn': ['123', '332']},\n",
       " 'employment': {'firm': ['Firm 1', 'Firm 2', 'Firm 2', 'Firm 3'],\n",
       "  'person_inn': ['123', '123', '332', '332']}}"
      ]
     },
     "execution_count": 3,
     "metadata": {},
     "output_type": "execute_result"
    }
   ],
   "source": [
    "db"
   ]
  },
  {
   "cell_type": "code",
   "execution_count": 4,
   "metadata": {},
   "outputs": [
    {
     "data": {
      "text/plain": [
       "{'name': ['Vladimir', 'Mariya'],\n",
       " 'lname': ['Ivanov', 'Sidorova'],\n",
       " 'inn': ['123', '332']}"
      ]
     },
     "execution_count": 4,
     "metadata": {},
     "output_type": "execute_result"
    }
   ],
   "source": [
    "db['person']"
   ]
  },
  {
   "cell_type": "code",
   "execution_count": 5,
   "metadata": {},
   "outputs": [
    {
     "data": {
      "text/plain": [
       "{'firm': ['Firm 1', 'Firm 2', 'Firm 2', 'Firm 3'],\n",
       " 'person_inn': ['123', '123', '332', '332']}"
      ]
     },
     "execution_count": 5,
     "metadata": {},
     "output_type": "execute_result"
    }
   ],
   "source": [
    "db['employment']"
   ]
  },
  {
   "cell_type": "code",
   "execution_count": 12,
   "metadata": {},
   "outputs": [],
   "source": [
    "def merging_by_inn(db):\n",
    "    merged = {\n",
    "        \"name\" : [],\n",
    "        \"lname\" : [],\n",
    "        \"inn\" : [],\n",
    "        \"firm\" : [],\n",
    "        \"person_inn\" : []\n",
    "    }\n",
    "    \n",
    "    for key in db['employment']:\n",
    "        for item in db['employment'][key]:\n",
    "            merged[key].append(item)\n",
    "            if key == 'person_inn':\n",
    "                for name, lname, inn in zip(enumerate(db['person']['name']), enumerate(db['person']['lname']), enumerate(db['person']['inn'])):\n",
    "                    if item == inn[1]:\n",
    "                        merged['name'].append(name[1])\n",
    "                        merged['lname'].append(lname[1])\n",
    "                        merged['inn'].append(inn[1])\n",
    "\n",
    "        \n",
    "    db['merged'] = merged\n",
    "    \n",
    "    return db"
   ]
  },
  {
   "cell_type": "code",
   "execution_count": 13,
   "metadata": {},
   "outputs": [
    {
     "data": {
      "text/plain": [
       "{'person': {'name': ['Vladimir', 'Mariya'],\n",
       "  'lname': ['Ivanov', 'Sidorova'],\n",
       "  'inn': ['123', '332']},\n",
       " 'employment': {'firm': ['Firm 1', 'Firm 2', 'Firm 2', 'Firm 3'],\n",
       "  'person_inn': ['123', '123', '332', '332']},\n",
       " 'merged': {'name': ['Vladimir', 'Vladimir', 'Mariya', 'Mariya'],\n",
       "  'lname': ['Ivanov', 'Ivanov', 'Sidorova', 'Sidorova'],\n",
       "  'inn': ['123', '123', '332', '332'],\n",
       "  'firm': ['Firm 1', 'Firm 2', 'Firm 2', 'Firm 3'],\n",
       "  'person_inn': ['123', '123', '332', '332']}}"
      ]
     },
     "execution_count": 13,
     "metadata": {},
     "output_type": "execute_result"
    }
   ],
   "source": [
    "merging_by_inn(db)"
   ]
  },
  {
   "cell_type": "code",
   "execution_count": 26,
   "metadata": {},
   "outputs": [],
   "source": [
    "def concatenate_list_data(list):\n",
    "    result= ''\n",
    "    for element in list:\n",
    "        result += f\"{str(element)}; \"\n",
    "    return result"
   ]
  },
  {
   "cell_type": "code",
   "execution_count": 27,
   "metadata": {},
   "outputs": [],
   "source": [
    "import numpy as np\n",
    "\n",
    "def eval_db(db):\n",
    "    evaluated = []\n",
    "    for key in db['merged']:\n",
    "        evaluated.append(db['merged'][key])\n",
    "    evaluated = np.array(evaluated).T\n",
    "    result = []\n",
    "    for ent in evaluated:\n",
    "        result.append(concatenate_list_data(ent))\n",
    "    return result"
   ]
  },
  {
   "cell_type": "code",
   "execution_count": 28,
   "metadata": {},
   "outputs": [
    {
     "data": {
      "text/plain": [
       "['Vladimir; Ivanov; 123; Firm 1; 123; ',\n",
       " 'Vladimir; Ivanov; 123; Firm 2; 123; ',\n",
       " 'Mariya; Sidorova; 332; Firm 2; 332; ',\n",
       " 'Mariya; Sidorova; 332; Firm 3; 332; ']"
      ]
     },
     "execution_count": 28,
     "metadata": {},
     "output_type": "execute_result"
    }
   ],
   "source": [
    "eval_db(db)"
   ]
  },
  {
   "cell_type": "code",
   "execution_count": null,
   "metadata": {},
   "outputs": [],
   "source": []
  }
 ],
 "metadata": {
  "kernelspec": {
   "display_name": "Python 3",
   "language": "python",
   "name": "python3"
  },
  "language_info": {
   "codemirror_mode": {
    "name": "ipython",
    "version": 3
   },
   "file_extension": ".py",
   "mimetype": "text/x-python",
   "name": "python",
   "nbconvert_exporter": "python",
   "pygments_lexer": "ipython3",
   "version": "3.7.3"
  }
 },
 "nbformat": 4,
 "nbformat_minor": 2
}
