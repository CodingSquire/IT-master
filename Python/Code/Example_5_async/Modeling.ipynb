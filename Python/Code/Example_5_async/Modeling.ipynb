{
 "cells": [
  {
   "cell_type": "code",
   "execution_count": 2,
   "metadata": {},
   "outputs": [],
   "source": [
    "import random\n",
    "import collections\n",
    "import queue\n",
    "import argparse\n",
    "import time"
   ]
  },
  {
   "cell_type": "code",
   "execution_count": 4,
   "metadata": {},
   "outputs": [],
   "source": [
    "DEFAULT_NUMBER_OF_VISITORS = 30\n",
    "DEFAULT_END_TIME = 200\n",
    "ORDER_DURATION = 5\n",
    "COOKING_DURATION = 15\n",
    "\n",
    "Event = collections.namedtuple('Event', 'time proc action')"
   ]
  },
  {
   "cell_type": "code",
   "execution_count": null,
   "metadata": {},
   "outputs": [],
   "source": [
    "def mcDon_queue_process(ident, number_in_queue, start_time=0):\n",
    "    time = yield Event(start_time, ident, 'added to queue')\n",
    "    time = yield Event(time, ident, '')\n",
    "    \n",
    "def mcDon_"
   ]
  },
  {
   "cell_type": "code",
   "execution_count": null,
   "metadata": {},
   "outputs": [],
   "source": [
    "class McDonSimulator:\n",
    "    \n",
    "    def __init__(self, procs_map):\n",
    "        self.event_queue = queue.Queue()\n",
    "        self.proc = dict(procs_map)\n",
    "        \n",
    "    def run(self, end_time):\n",
    "        for _, proc in sorted(self.procs.items()):\n",
    "            first_event = next(proc)\n",
    "            self.event_queue.put(first_event) \n",
    "            \n",
    "        sim_time = 0\n",
    "        while sim_time < end_time:\n",
    "            if self.order_queue.empty() and self.cooking_queue.empty(): \n",
    "                print('*** all visitors was served ***')\n",
    "                break\n",
    "                \n",
    "        current_order = self.order_queue.get()\n",
    "        current_cook = self.cooking_queue.get()\n",
    "        o_sim_time, o_proc_id, o_previous_action = current_order\n",
    "        c_sim_time, o_\n",
    "        \n",
    "    def compute_duration(previous_action):\n",
    "        if previous_action in ['making_queue', '']:\n",
    "            interval = ORDER_DURATION\n",
    "        elif previous_action == 'pick up passenger':\n",
    "            interval = COOKING_DURATION\n",
    "        elif previous_action == 'going home':\n",
    "            interval = 1\n",
    "        else:\n",
    "            raise ValueError('Unknown previous_action: %s' % previous_action)\n",
    "        return int(random.expovariate(1/interval)) + 1"
   ]
  }
 ],
 "metadata": {
  "kernelspec": {
   "display_name": "Python 3",
   "language": "python",
   "name": "python3"
  },
  "language_info": {
   "codemirror_mode": {
    "name": "ipython",
    "version": 3
   },
   "file_extension": ".py",
   "mimetype": "text/x-python",
   "name": "python",
   "nbconvert_exporter": "python",
   "pygments_lexer": "ipython3",
   "version": "3.7.3"
  }
 },
 "nbformat": 4,
 "nbformat_minor": 2
}
